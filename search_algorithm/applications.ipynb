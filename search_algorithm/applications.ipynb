{
 "cells": [
  {
   "cell_type": "code",
   "execution_count": 1,
   "metadata": {},
   "outputs": [],
   "source": [
    "import numpy as np\n",
    "from itertools import product\n",
    "import pickle\n",
    "from search import *\n"
   ]
  },
  {
   "cell_type": "markdown",
   "metadata": {},
   "source": [
    "# Examples"
   ]
  },
  {
   "cell_type": "markdown",
   "metadata": {},
   "source": [
    "## SERPENT"
   ]
  },
  {
   "cell_type": "code",
   "execution_count": 2,
   "metadata": {},
   "outputs": [
    {
     "name": "stdout",
     "output_type": "stream",
     "text": [
      "For SERPENT :\n",
      "S_Box 0, Bit 0 :\n",
      "p : 7\n",
      "Encodings : [1, 2, 2, 1]\n",
      "Final encodings : False : {0, 3, 4} and True : {1, 2, 5, 6}\n",
      "S_Box 0, Bit 1 :\n",
      "p : 11\n",
      "Encodings : [1, 2, 8, 5]\n",
      "Final encodings : False : {0, 1, 3, 4, 8} and True : {2, 5, 6, 7, 9, 10}\n",
      "S_Box 0, Bit 2 :\n",
      "p : 11\n",
      "Encodings : [1, 3, 9, 5]\n",
      "Final encodings : False : {1, 4, 6, 7, 8} and True : {0, 2, 3, 5, 9, 10}\n",
      "S_Box 0, Bit 3 :\n",
      "p : 11\n",
      "Encodings : [1, 2, 8, 6]\n",
      "Final encodings : False : {1, 4, 6, 8, 9} and True : {0, 2, 3, 5, 7, 10}\n",
      "S_Box 1, Bit 0 :\n",
      "p : 9\n",
      "Encodings : [1, 4, 2, 6]\n",
      "Final encodings : False : {3, 4, 5, 6, 8} and True : {0, 1, 2, 7}\n",
      "S_Box 1, Bit 1 :\n",
      "p : 7\n",
      "Encodings : [1, 6, 2, 2]\n",
      "Final encodings : False : {2, 3, 6} and True : {0, 1, 4, 5}\n",
      "S_Box 1, Bit 2 :\n",
      "p : 9\n",
      "Encodings : [1, 4, 2, 3]\n",
      "Final encodings : False : {1, 2, 3, 6, 8} and True : {0, 4, 5, 7}\n",
      "S_Box 1, Bit 3 :\n",
      "p : 11\n",
      "Encodings : [1, 3, 4, 6]\n",
      "Final encodings : False : {1, 3, 5, 8, 9, 10} and True : {0, 2, 4, 6, 7}\n",
      "S_Box 2, Bit 0 :\n",
      "p : 9\n",
      "Encodings : [1, 3, 1, 2]\n",
      "Final encodings : False : {1, 3, 6, 7} and True : {0, 2, 4, 5}\n",
      "S_Box 2, Bit 1 :\n",
      "p : 7\n",
      "Encodings : [1, 2, 5, 6]\n",
      "Final encodings : False : {0, 3, 4, 5} and True : {1, 2, 6}\n",
      "S_Box 2, Bit 2 :\n",
      "p : 11\n",
      "Encodings : [1, 3, 6, 7]\n",
      "Final encodings : False : {0, 2, 4, 5, 7, 8} and True : {1, 3, 6, 9, 10}\n",
      "S_Box 2, Bit 3 :\n",
      "p : 7\n",
      "Encodings : [1, 2, 6, 2]\n",
      "Final encodings : False : {0, 1, 4, 5} and True : {2, 3, 6}\n",
      "S_Box 3, Bit 0 :\n",
      "p : 11\n",
      "Encodings : [1, 2, 4, 5]\n",
      "Final encodings : False : {0, 6, 7, 8, 10} and True : {1, 2, 3, 4, 5, 9}\n",
      "S_Box 3, Bit 1 :\n",
      "p : 11\n",
      "Encodings : [1, 3, 7, 2]\n",
      "Final encodings : False : {0, 3, 4, 5, 8, 9} and True : {1, 2, 6, 7, 10}\n",
      "S_Box 3, Bit 2 :\n",
      "p : 11\n",
      "Encodings : [1, 2, 6, 3]\n",
      "Final encodings : False : {0, 3, 4, 6, 7} and True : {1, 2, 5, 8, 9, 10}\n",
      "S_Box 3, Bit 3 :\n",
      "p : 9\n",
      "Encodings : [1, 2, 3, 6]\n",
      "Final encodings : False : {0, 8, 3, 5} and True : {1, 2, 4, 6, 7}\n",
      "S_Box 4, Bit 0 :\n",
      "p : 9\n",
      "Encodings : [1, 3, 7, 8]\n",
      "Final encodings : False : {0, 8, 2, 4} and True : {1, 3, 6, 7}\n",
      "S_Box 4, Bit 1 :\n",
      "p : 9\n",
      "Encodings : [1, 3, 2, 5]\n",
      "Final encodings : False : {0, 3, 4, 5, 7} and True : {8, 1, 2, 6}\n",
      "S_Box 4, Bit 2 :\n",
      "p : 11\n",
      "Encodings : [1, 2, 7, 6]\n",
      "Final encodings : False : {0, 2, 5, 7, 8} and True : {1, 3, 4, 6, 9, 10}\n",
      "S_Box 4, Bit 3 :\n",
      "p : 5\n",
      "Encodings : [1, 4, 2, 4]\n",
      "Final encodings : False : {2, 3, 4} and True : {0, 1}\n",
      "S_Box 5, Bit 0 :\n",
      "p : 11\n",
      "Encodings : [1, 2, 8, 7]\n",
      "Final encodings : False : {1, 2, 5, 6, 7, 8} and True : {0, 3, 4, 9, 10}\n",
      "S_Box 5, Bit 1 :\n",
      "p : 9\n",
      "Encodings : [1, 2, 5, 3]\n",
      "Final encodings : False : {2, 3, 4, 6, 7} and True : {0, 8, 5, 1}\n",
      "S_Box 5, Bit 2 :\n",
      "p : 9\n",
      "Encodings : [1, 8, 2, 4]\n",
      "Final encodings : False : {1, 2, 4, 6} and True : {0, 3, 5, 7, 8}\n",
      "S_Box 5, Bit 3 :\n",
      "p : 5\n",
      "Encodings : [1, 4, 2, 4]\n",
      "Final encodings : False : {2, 3, 4} and True : {0, 1}\n",
      "S_Box 6, Bit 0 :\n",
      "p : 11\n",
      "Encodings : [1, 3, 9, 5]\n",
      "Final encodings : False : {0, 1, 4, 7, 8, 10} and True : {2, 3, 5, 6, 9}\n",
      "S_Box 6, Bit 1 :\n",
      "p : 9\n",
      "Encodings : [1, 3, 2, 5]\n",
      "Final encodings : False : {8, 1, 2, 6} and True : {0, 3, 4, 5, 7}\n",
      "S_Box 6, Bit 2 :\n",
      "p : 7\n",
      "Encodings : [1, 2, 2, 1]\n",
      "Final encodings : False : {2, 3, 6} and True : {0, 1, 4, 5}\n",
      "S_Box 6, Bit 3 :\n",
      "p : 9\n",
      "Encodings : [1, 3, 2, 5]\n",
      "Final encodings : False : {1, 2, 3, 5} and True : {0, 4, 6, 7, 8}\n",
      "S_Box 7, Bit 0 :\n",
      "p : 9\n",
      "Encodings : [1, 2, 7, 4]\n",
      "Final encodings : False : {0, 3, 4, 5} and True : {1, 2, 6, 7, 8}\n",
      "S_Box 7, Bit 1 :\n",
      "p : 9\n",
      "Encodings : [1, 3, 5, 2]\n",
      "Final encodings : False : {0, 4, 6, 7, 8} and True : {1, 2, 3, 5}\n",
      "S_Box 7, Bit 2 :\n",
      "p : 7\n",
      "Encodings : [1, 2, 2, 6]\n",
      "Final encodings : False : {0, 1, 3} and True : {2, 4, 5, 6}\n",
      "S_Box 7, Bit 3 :\n",
      "p : 7\n",
      "Encodings : [1, 1, 4, 3]\n",
      "Final encodings : False : {2, 4, 5} and True : {0, 1, 3, 6}\n"
     ]
    }
   ],
   "source": [
    "with open(\"clear_s_boxes/serpent_s_boxes_binary.pickle\", \"rb\") as f:\n",
    "    sboxes = pickle.load(f)\n",
    "\n",
    "print(\"For SERPENT :\")\n",
    "for i, sbox in enumerate(sboxes):\n",
    "    for j, bit in enumerate(sbox):\n",
    "        serpent_generic = lambda input : sboxes[i][j][sum([x * 2 ** i for i, x in enumerate(input)])]\n",
    "        encodings, p = full_search(serpent_generic, 4, 15)\n",
    "        f, t = get_final_encoding(serpent_generic, 4, encodings, p)\n",
    "        print(f\"S_Box {i}, Bit {j} :\")\n",
    "        print(f\"p : {p}\")\n",
    "        print(f\"Encodings : {encodings}\")\n",
    "        print(f\"Final encodings : False : {f} and True : {t}\")\n"
   ]
  },
  {
   "cell_type": "markdown",
   "metadata": {},
   "source": [
    "## ASCON"
   ]
  },
  {
   "cell_type": "code",
   "execution_count": 3,
   "metadata": {},
   "outputs": [
    {
     "name": "stdout",
     "output_type": "stream",
     "text": [
      "For ASCON :\n",
      "S_Box 0, Bit 0 :\n",
      "p : 17\n",
      "Encodings : [1, 2, 3, 7, 14]\n",
      "Final encodings : False : {0, 1, 5, 6, 8, 9, 11, 12, 16} and True : {2, 3, 4, 7, 10, 13, 14, 15}\n",
      "S_Box 0, Bit 1 :\n",
      "p : 7\n",
      "Encodings : [1, 3, 3, 3, 1]\n",
      "Final encodings : False : {0, 2, 4} and True : {1, 3, 5, 6}\n",
      "S_Box 0, Bit 2 :\n",
      "p : 7\n",
      "Encodings : [1, 6, 2, 2, 0]\n",
      "Final encodings : False : {1, 2, 5} and True : {0, 3, 4, 6}\n",
      "S_Box 0, Bit 3 :\n",
      "p : 15\n",
      "Encodings : [1, 14, 5, 5, 2]\n",
      "Final encodings : False : {0, 4, 6, 7, 8, 10} and True : {1, 2, 3, 5, 9, 11, 12, 13, 14}\n",
      "S_Box 0, Bit 4 :\n",
      "p : 11\n",
      "Encodings : [1, 2, 0, 4, 3]\n",
      "Final encodings : False : {0, 3, 6, 7, 8} and True : {1, 2, 4, 5, 9, 10}\n"
     ]
    }
   ],
   "source": [
    "\n",
    "with open(\"clear_s_boxes/ascon_s_boxes_binary.pickle\", \"rb\") as f:\n",
    "    sboxes = pickle.load(f)\n",
    "\n",
    "print(\"For ASCON :\")\n",
    "\n",
    "for i, sbox in enumerate(sboxes):\n",
    "    for j, bit in enumerate(sbox):\n",
    "        ascon_generic = lambda input: sboxes[i][j][sum([x * 2 ** i for i, x in enumerate(input)])]\n",
    "        encodings, p = full_search(ascon_generic, 5)\n",
    "        f, t = get_final_encoding(ascon_generic, 5, encodings, p)\n",
    "        print(f\"S_Box {i}, Bit {j} :\")\n",
    "        print(f\"p : {p}\")\n",
    "        print(f\"Encodings : {encodings}\")\n",
    "        print(f\"Final encodings : False : {f} and True : {t}\")"
   ]
  },
  {
   "cell_type": "markdown",
   "metadata": {},
   "source": [
    "## SIMON / TRIVIUM"
   ]
  },
  {
   "cell_type": "code",
   "execution_count": 4,
   "metadata": {},
   "outputs": [
    {
     "name": "stdout",
     "output_type": "stream",
     "text": [
      "p : 9\n",
      "Encodings : [1, 1, 2, 2, 2]\n",
      "Final encodings : False : {0, 1, 4, 5, 8} and True : {2, 3, 6, 7}\n"
     ]
    }
   ],
   "source": [
    "def simon(x):\n",
    "    return x[0] & x[1] ^ x[2] ^ x[3] ^ x[4]\n",
    "\n",
    "symmetries_simon = [\n",
    "    (0, 1),\n",
    "    (2, 3, 4)\n",
    "]\n",
    "\n",
    "encodings, p = full_search(simon, 5, symmetries=symmetries_simon)\n",
    "f, t = get_final_encoding(simon, 5, encodings, p)\n",
    "print(f\"p : {p}\")\n",
    "print(f\"Encodings : {encodings}\")\n",
    "print(f\"Final encodings : False : {f} and True : {t}\")\n",
    "\n"
   ]
  },
  {
   "cell_type": "markdown",
   "metadata": {},
   "source": [
    "# SHA 3\n",
    "\n",
    "Only the $\\texttt{AND}$ of the function $\\chi$."
   ]
  },
  {
   "cell_type": "code",
   "execution_count": 5,
   "metadata": {},
   "outputs": [
    {
     "name": "stdout",
     "output_type": "stream",
     "text": [
      "([1, 1], 3)\n"
     ]
    }
   ],
   "source": [
    "def _and(x):\n",
    "    return x[0] & x[1]\n",
    "\n",
    "\n",
    "print(full_search(_and, 2))"
   ]
  }
 ],
 "metadata": {
  "kernelspec": {
   "display_name": "Python 3",
   "language": "python",
   "name": "python3"
  },
  "language_info": {
   "codemirror_mode": {
    "name": "ipython",
    "version": 3
   },
   "file_extension": ".py",
   "mimetype": "text/x-python",
   "name": "python",
   "nbconvert_exporter": "python",
   "pygments_lexer": "ipython3",
   "version": "3.10.12"
  },
  "orig_nbformat": 4
 },
 "nbformat": 4,
 "nbformat_minor": 2
}
